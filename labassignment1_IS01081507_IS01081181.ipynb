{
 "cells": [
  {
   "cell_type": "code",
   "execution_count": 3,
   "id": "ac9ad7f0-21d0-4e2f-94bb-86a0f5922c99",
   "metadata": {},
   "outputs": [
    {
     "name": "stdout",
     "output_type": "stream",
     "text": [
      "Reviews saved to amazon_reviews.csv\n"
     ]
    }
   ],
   "source": [
    "import requests\n",
    "from bs4 import BeautifulSoup\n",
    "import csv\n",
    "import time\n",
    "\n",
    "# Group Members:\n",
    "# Member 1: [Rinad Mohammed S Alfarhan], [IS01081507]\n",
    "# Member 2: [Alnaseeb Shahad], [IS01081181]\n",
    "\n",
    "def get_reviews(url):\n",
    "    reviews = []\n",
    "    \n",
    "    for page in range(1, 6): \n",
    "        page_url = url + f\"&pageNumber={page}\"\n",
    "        response = requests.get(page_url)\n",
    "        if response.status_code == 200:\n",
    "            soup = BeautifulSoup(response.text, 'html.parser')\n",
    "            review_items = soup.find_all('div', class_='review')\n",
    "            for review_item in review_items:\n",
    "                review = {}\n",
    "                reviewer_name = review_item.find('span', class_='a-profile-name').text.strip()\n",
    "                review_date = review_item.find('span', class_='review-date').text.strip().split('on ')[-1]\n",
    "                review_content = review_item.find('span', class_='review-text').text.strip()\n",
    "                review['Reviewer Name'] = reviewer_name\n",
    "                review['Review Date'] = review_date\n",
    "                review['Review Content'] = review_content\n",
    "                reviews.append(review)\n",
    "            time.sleep(1)  \n",
    "    return reviews\n",
    "\n",
    "def save_to_csv(reviews, filename):\n",
    "\n",
    "    fieldnames = ['Reviewer Name', 'Review Date', 'Review Content']\n",
    "    with open(filename, 'w', newline='', encoding='utf-8') as csvfile:\n",
    "        writer = csv.DictWriter(csvfile, fieldnames=fieldnames)\n",
    "        writer.writeheader()\n",
    "        writer.writerows(reviews)\n",
    "    print(f\"Reviews saved to {filename}\")\n",
    "\n",
    "\n",
    "product_url = \"https://www.amazon.com/Princess-PeachTM-Showtime-Version-Nintendo-Switch/dp/B0CJ3CKLRH/?_encoding=UTF8&pd_rd_w=wHdz2&content-id=amzn1.sym.41f1b87d-2e7a-4fe4-bfcc-e038cab8f79e&pf_rd_p=41f1b87d-2e7a-4fe4-bfcc-e038cab8f79e&pf_rd_r=875NKE3FK43B8HKT4PRH&pd_rd_wg=qcqnM&pd_rd_r=d546d3b3-6294-4c8e-b9b4-5ec495bc36d3&ref_=pd_gw_crs_zg_bs_468642&th=1\"\n",
    "\n",
    "\n",
    "reviews = get_reviews(product_url)\n",
    "save_to_csv(reviews, \"amazon_reviews.csv\")\n"
   ]
  },
  {
   "cell_type": "code",
   "execution_count": null,
   "id": "57e8b0d3-5d0d-4483-aae3-558057c3eb18",
   "metadata": {},
   "outputs": [],
   "source": []
  },
  {
   "cell_type": "code",
   "execution_count": null,
   "id": "ddb3159a-08da-4413-a4f6-70763fa00e06",
   "metadata": {},
   "outputs": [],
   "source": []
  }
 ],
 "metadata": {
  "kernelspec": {
   "display_name": "Python 3 (ipykernel)",
   "language": "python",
   "name": "python3"
  },
  "language_info": {
   "codemirror_mode": {
    "name": "ipython",
    "version": 3
   },
   "file_extension": ".py",
   "mimetype": "text/x-python",
   "name": "python",
   "nbconvert_exporter": "python",
   "pygments_lexer": "ipython3",
   "version": "3.11.8"
  }
 },
 "nbformat": 4,
 "nbformat_minor": 5
}
